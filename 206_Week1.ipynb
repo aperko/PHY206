{
  "cells": [
    {
      "cell_type": "markdown",
      "metadata": {
        "id": "IM8VkVVcfcMO"
      },
      "source": [
        "# <center> PHY-206 Computational Physics </center>\n",
        "## <center> Week 1 Notebook: Introduction to Python Notebooks\n"
      ]
    },
    {
      "cell_type": "markdown",
      "metadata": {
        "id": "SPAKpHiZfcMP"
      },
      "source": [
        "## Instructions\n",
        "In this notebook you will review how to do basic math in Python as well as define simple functions.\n",
        "\n",
        "Before you start editing this notebook, save a copy in your own Google drive by going to File > Save a Copy in Drive and then change the name of the file to 206_Week1_*yourlastname*.ipynb by clicking on the name at the top of the page. Feel free to take notes from class in this notebook. When you finish the exercises, you will share your copy with me: click on the Share icon at the top right of the page, add perko.ashley@gmail.com, and click done. Weekly notebooks will be due the following Monday at 11:59 am."
      ]
    },
    {
      "cell_type": "markdown",
      "metadata": {
        "id": "3cJsY-Q4fcMQ"
      },
      "source": [
        "## Importing Packages\n",
        "\n",
        "All of your Python notebooks will start by importing the packages you need, usually at least numpy and matplotlib. **You must run the cell below before proceeding with working in the notebook. To do this, either click the \"play\" button in the top left corner of the cell, or click on the cell and press Shift+Enter.**\n"
      ]
    },
    {
      "cell_type": "code",
      "execution_count": null,
      "metadata": {
        "id": "qwAjDbZJfcMQ"
      },
      "outputs": [],
      "source": [
        "#Standard way to import things at start of a program.\n",
        "import numpy as np\n",
        "from numpy import pi, sin, cos, tan, exp #This will vary depending on what functions you are using.\n",
        "                                         #Note that other functions can be accessed from numpy (np.log for example)"
      ]
    },
    {
      "cell_type": "markdown",
      "metadata": {
        "id": "LaoYacUlfcMR"
      },
      "source": [
        "## Exercise 1: Basic Math Practice\n",
        "To get started, use Python to evaluate the following mathematical expressions. Check your answer with a calculator - if the answer in your code does not match your calculator, fix your code! If you get an error, check your code or ask your neighbor or me for help.  Make note of any issues that come up.  To add in a cell for code, select +Code above or below your current cell, and to add in a cell for text select +Text.\n",
        "\n",
        "* $7.5 + \\frac{5}{2}$<br/>\n",
        "* $2.0 \\cdot \\left(3.0\\cdot 10^8\\right)^2$<br/>\n",
        "* $\\tan\\left(\\frac{\\pi}{4}\\right)$<br/>\n",
        "* $3\\cdot 10^{-7}\\log(1000)$<br/>\n",
        "* $\\sin(90^\\circ)$<br/>\n",
        "* $\\ln(e)$<br/>"
      ]
    },
    {
      "cell_type": "markdown",
      "metadata": {
        "id": "R6lOUgLpfcMR"
      },
      "source": [
        "## Exercise 2: Ball Drop (Newman 2.1)\n",
        "A ball is dropped from a tower of height $h$ with initial velocity of $v_0 = 0$.  Write a program that calculates and prints the time the ball takes until it hits the ground after being dropped from a tower of a given height (ignoring air resistance).  Use your program to calculate and output the time for a ball dropped from a 100 m high tower.\n",
        "\n",
        "Notes: This is an analytically (exactly) solvable problem in physics, and one that should be familar to everyone from intro physics.  As a reminder, because it is the first day of the semester, the equation governing this motion is:\n",
        "\n",
        "$$ h = h_0 + v_0\\Delta t + 0.5a\\left(\\Delta t\\right)^2$$\n",
        "    \n",
        "where $h$ and $h_0$ are the final and intial heights of the ball, in meters, $v_0$ is the initial speed of the ball in meters/sec, $\\Delta t$ is the time interval of the motion and $a$ is the acceleration - in this case the acceleration due to gravity - in meters per second squared."
      ]
    },
    {
      "cell_type": "markdown",
      "metadata": {
        "id": "WkH-NJuwfcMS"
      },
      "source": [
        "## Exercise 3: Semi-Empirical Mass Formula (Newman 2.10)\n",
        "In nuclear physics, the semi-empriical mass formula is a formula for calculating the approximate nuclear binding energy, $B$, of a nucleus with atomic number $Z$ and mass number $A$:\n",
        "\n",
        "$$ B = a_1A -a_2A^{2/3}-a_3\\frac{Z(Z-1)}{A^{1/3}}-a_4\\frac{(A-2Z)^2}{A}$$\n",
        "\n",
        "where, in units of MeV, $a_1  =15.8$, $a_2=17.8$, $a_3 = 0.71$, and $a_4 = 23.7$. Write a **function** that takes as its input the values of $A$ and $Z$ and prints out the binding energy of the corresponding atom.  Use your program to find the binding energy of an atom with $A = 58$ and $Z= 28$.  You should find an answer of around 500 MeV.  \n",
        "\n",
        "Notes: Define the function in one cell, and then call the function in a second, separate cell."
      ]
    },
    {
      "cell_type": "markdown",
      "source": [
        "# Exercise 4: Emission Lines of Hydrogen\n",
        "In 1888 Johannes Rydberg published his famous formula for the wavelengths $\\lambda$ of the emission lines of the hydrogen atom \n",
        "\n",
        "\n",
        "$$\\frac{1}{\\lambda} = R \\left(\\frac{1}{m^2} - \\frac{1}{n^2}\\right)$$\n",
        "\n",
        "Where $R$ is the Rydberg constant = 1.097 $\\times$ $10^{-2} \\text{nm}^{-1}$, $m$ and $n$ are positive integers and $n>m$. The emission lines for $m=1$ are known as the  Lyman series, $m=2$ is the Balmer series and and $n=3$ is the Paschen series.\n",
        "Write some code (probably involving a **Loop**) that outputs the wavelengths of the Paschen series up to $n=12$ in an array and print your result. What happens to the wavelengths as $n$ increases?"
      ],
      "metadata": {
        "id": "2kLAbz_ZpOOt"
      }
    },
    {
      "cell_type": "markdown",
      "metadata": {
        "id": "mu5uhemifcMS"
      },
      "source": [
        "## End of In-Class Excercises\n",
        "If you still have some time left in class, you should make sure that your code above is properly commented.  As an added challenge, figure out how to format your output values for the height (Exercise 2) and binding energy (Exercise 3) so they only show two digits after the decimal.  Still have time?  Extend Exercise 1 to output the time for a non-zero, user-defined initial velocity.  "
      ]
    },
    {
      "cell_type": "markdown",
      "source": [
        "## Pre-Class Questions\n",
        "\n",
        "Read Chapter 3 of the textbook to prepare for next week and answer the following questions in text boxes below.\n",
        "\n",
        "1.\n",
        "\n",
        "```\n",
        "# This is formatted as code\n",
        "```\n",
        "\n"
      ],
      "metadata": {
        "id": "9CaMbX95XVGQ"
      }
    }
  ],
  "metadata": {
    "kernelspec": {
      "display_name": "Python 3 (ipykernel)",
      "language": "python",
      "name": "python3"
    },
    "language_info": {
      "codemirror_mode": {
        "name": "ipython",
        "version": 3
      },
      "file_extension": ".py",
      "mimetype": "text/x-python",
      "name": "python",
      "nbconvert_exporter": "python",
      "pygments_lexer": "ipython3",
      "version": "3.7.13"
    },
    "colab": {
      "provenance": []
    }
  },
  "nbformat": 4,
  "nbformat_minor": 0
}